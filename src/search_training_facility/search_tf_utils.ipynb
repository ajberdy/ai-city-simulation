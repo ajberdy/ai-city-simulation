{
 "cells": [
  {
   "cell_type": "code",
   "execution_count": 3,
   "metadata": {
    "collapsed": true,
    "pycharm": {
     "is_executing": false
    }
   },
   "outputs": [
    {
     "name": "stdout",
     "text": [
      "SearchRoadGraph(name=long-map, connections=[Connection(index=0, start=1, end=0, direction='WEST'), Connection(index=1, start=0, end=1, direction='EAST'), Connection(index=2, start=2, end=1, direction='WEST'), Connection(index=3, start=1, end=2, direction='EAST'), Connection(index=4, start=3, end=0, direction='NORTH'), Connection(index=5, start=0, end=3, direction='SOUTH'), Connection(index=6, start=4, end=3, direction='WEST'), Connection(index=7, start=3, end=4, direction='EAST'), Connection(index=8, start=4, end=1, direction='NORTH'), Connection(index=9, start=1, end=4, direction='SOUTH'), Connection(index=10, start=5, end=4, direction='WEST'), Connection(index=11, start=4, end=5, direction='EAST'), Connection(index=12, start=5, end=2, direction='NORTH'), Connection(index=13, start=2, end=5, direction='SOUTH')], intersections=[Intersection(index=0, x=0, y=6, connections=[1, 5]), Intersection(index=1, x=4, y=6, connections=[0, 3, 9]), Intersection(index=2, x=9, y=6, connections=[2, 13]), Intersection(index=3, x=0, y=0, connections=[4, 7]), Intersection(index=4, x=4, y=0, connections=[6, 8, 11]), Intersection(index=5, x=9, y=0, connections=[10, 12])])\n"
     ],
     "output_type": "stream"
    }
   ],
   "source": [
    "%run search_tf_utils\n",
    "\n"
   ]
  }
 ],
 "metadata": {
  "language_info": {
   "codemirror_mode": {
    "name": "ipython",
    "version": 2
   },
   "file_extension": ".py",
   "mimetype": "text/x-python",
   "name": "python",
   "nbconvert_exporter": "python",
   "pygments_lexer": "ipython2",
   "version": "2.7.6"
  },
  "kernelspec": {
   "name": "python3",
   "language": "python",
   "display_name": "Python 3"
  },
  "pycharm": {
   "stem_cell": {
    "cell_type": "raw",
    "source": [],
    "metadata": {
     "collapsed": false
    }
   }
  }
 },
 "nbformat": 4,
 "nbformat_minor": 0
}